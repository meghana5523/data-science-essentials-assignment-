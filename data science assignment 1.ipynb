{
 "cells": [
  {
   "cell_type": "code",
   "execution_count": 2,
   "metadata": {},
   "outputs": [],
   "source": [
    " # 1.RAINBOW"
   ]
  },
  {
   "cell_type": "code",
   "execution_count": 3,
   "metadata": {},
   "outputs": [
    {
     "name": "stdout",
     "output_type": "stream",
     "text": [
      "LETS UPGRADE\n"
     ]
    }
   ],
   "source": [
    "# 2.WAP to print lets upgrade in capital letters\n",
    "print(\"LETS UPGRADE\")"
   ]
  },
  {
   "cell_type": "code",
   "execution_count": 4,
   "metadata": {},
   "outputs": [
    {
     "name": "stdout",
     "output_type": "stream",
     "text": [
      "enter cost price of a product:20\n",
      "enter selling price of product:30\n",
      "Profit\n"
     ]
    }
   ],
   "source": [
    "# 3.WAP to print profit or loss or neither profit or loss of a product\n",
    "cp=int(input(\"enter cost price of a product:\"))\n",
    "sp=int(input(\"enter selling price of product:\"))\n",
    "profit=sp-cp\n",
    "if profit>0:\n",
    "    print(\"Profit\")\n",
    "elif profit<0:\n",
    "    print(\"Loss\")\n",
    "else:\n",
    "    print(\"Neither\")"
   ]
  },
  {
   "cell_type": "code",
   "execution_count": 6,
   "metadata": {},
   "outputs": [
    {
     "name": "stdout",
     "output_type": "stream",
     "text": [
      "enter cost price of a product:20\n",
      "enter selling price of product:10\n",
      "Loss\n"
     ]
    }
   ],
   "source": [
    "cp=int(input(\"enter cost price of a product:\"))\n",
    "sp=int(input(\"enter selling price of product:\"))\n",
    "profit=sp-cp\n",
    "if profit>0:\n",
    "    print(\"Profit\")\n",
    "elif profit<0:\n",
    "    print(\"Loss\")\n",
    "else:\n",
    "    print(\"Neither\")"
   ]
  },
  {
   "cell_type": "code",
   "execution_count": 7,
   "metadata": {},
   "outputs": [
    {
     "name": "stdout",
     "output_type": "stream",
     "text": [
      "enter cost price of a product:10\n",
      "enter selling price of product:10\n",
      "Neither\n"
     ]
    }
   ],
   "source": [
    "cp=int(input(\"enter cost price of a product:\"))\n",
    "sp=int(input(\"enter selling price of product:\"))\n",
    "profit=sp-cp\n",
    "if profit>0:\n",
    "    print(\"Profit\")\n",
    "elif profit<0:\n",
    "    print(\"Loss\")\n",
    "else:\n",
    "    print(\"Neither\")"
   ]
  },
  {
   "cell_type": "code",
   "execution_count": 9,
   "metadata": {},
   "outputs": [
    {
     "name": "stdout",
     "output_type": "stream",
     "text": [
      "20\n",
      "1600\n"
     ]
    }
   ],
   "source": [
    "# 4.WAP that takes an amount in errors as input in euros as input and find its equivalent in rupees and display it.\n",
    "num=int(input(\"\"))\n",
    "euro=80\n",
    "print(num*euro)"
   ]
  },
  {
   "cell_type": "code",
   "execution_count": 10,
   "metadata": {},
   "outputs": [
    {
     "name": "stdout",
     "output_type": "stream",
     "text": [
      "10\n",
      "800\n"
     ]
    }
   ],
   "source": [
    "num=int(input(\"\"))\n",
    "euro=80\n",
    "print(num*euro)\n"
   ]
  },
  {
   "cell_type": "code",
   "execution_count": null,
   "metadata": {},
   "outputs": [],
   "source": []
  }
 ],
 "metadata": {
  "kernelspec": {
   "display_name": "Python 3",
   "language": "python",
   "name": "python3"
  },
  "language_info": {
   "codemirror_mode": {
    "name": "ipython",
    "version": 3
   },
   "file_extension": ".py",
   "mimetype": "text/x-python",
   "name": "python",
   "nbconvert_exporter": "python",
   "pygments_lexer": "ipython3",
   "version": "3.8.3"
  }
 },
 "nbformat": 4,
 "nbformat_minor": 4
}
