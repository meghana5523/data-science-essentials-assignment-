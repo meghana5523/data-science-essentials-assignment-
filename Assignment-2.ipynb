{
 "cells": [
  {
   "cell_type": "code",
   "execution_count": 2,
   "metadata": {},
   "outputs": [
    {
     "name": "stdout",
     "output_type": "stream",
     "text": [
      "[14, 62, 78, 24, 60]\n"
     ]
    }
   ],
   "source": [
    "# 1. \n",
    "list1 = [23,14,55,62,37,78,9,11,24,60]\n",
    "list2=[]\n",
    "for i in list1:\n",
    "    if i %2==0:\n",
    "        list2.append(i)\n",
    "print(list2)   "
   ]
  },
  {
   "cell_type": "code",
   "execution_count": 31,
   "metadata": {},
   "outputs": [
    {
     "name": "stdout",
     "output_type": "stream",
     "text": [
      "[11, 23, 43, 55, 25, 67, 89, 'EMAIL']\n",
      "[23, 43, 55, 25, 67, 89, 'EMAIL']\n",
      "[23, 43, 55, 25, 67, 89, 'EMAIL', (91, 2, 3)]\n",
      "[(91, 2, 3), 'EMAIL', 89, 67, 25, 55, 43, 23]\n",
      "[(91, 2, 3), 'EMAIL', 89, 67, 25, 55, 43]\n",
      "[43, 55, 25, 67, 89, 'EMAIL', (91, 2, 3)]\n",
      "[43, 55, 25, 67, 89, 'EMAIL']\n",
      "[43, 55, 25, 67, 89]\n",
      "[43, 55, 25, 67, 89, 22]\n",
      "[22, 25, 43, 55, 67, 89]\n"
     ]
    },
    {
     "data": {
      "text/plain": [
       "3"
      ]
     },
     "execution_count": 31,
     "metadata": {},
     "output_type": "execute_result"
    }
   ],
   "source": [
    "# 2.list comprehension\n",
    "list = [11,23,43,55,25,67,89]\n",
    "list.append(\"EMAIL\")\n",
    "print(list)\n",
    "list.remove(11)\n",
    "print(list)\n",
    "list.append((91,2,3))\n",
    "print(list)\n",
    "list.reverse()\n",
    "print(list)\n",
    "list.index(89)\n",
    "list.pop()\n",
    "print(list)\n",
    "list.reverse()\n",
    "print(list)\n",
    "list.pop()\n",
    "print(list)\n",
    "list.pop()\n",
    "print(list)\n",
    "list.append(22)\n",
    "print(list)\n",
    "list.sort()\n",
    "print(list)\n",
    "list.count(43)\n",
    "list.index(55)\n",
    "\n",
    "\n",
    "\n",
    "\n"
   ]
  },
  {
   "cell_type": "code",
   "execution_count": 26,
   "metadata": {},
   "outputs": [
    {
     "name": "stdout",
     "output_type": "stream",
     "text": [
      "Input:4\n",
      "{1: 1, 2: 4, 3: 9, 4: 16}\n"
     ]
    }
   ],
   "source": [
    "# 3.\n",
    "n=int(input(\"Input:\"))\n",
    "d={i:i*i for i in range(1,n+1)}\n",
    "print(d) "
   ]
  },
  {
   "cell_type": "code",
   "execution_count": null,
   "metadata": {},
   "outputs": [],
   "source": [
    "\n"
   ]
  }
 ],
 "metadata": {
  "kernelspec": {
   "display_name": "Python 3",
   "language": "python",
   "name": "python3"
  },
  "language_info": {
   "codemirror_mode": {
    "name": "ipython",
    "version": 3
   },
   "file_extension": ".py",
   "mimetype": "text/x-python",
   "name": "python",
   "nbconvert_exporter": "python",
   "pygments_lexer": "ipython3",
   "version": "3.8.3"
  }
 },
 "nbformat": 4,
 "nbformat_minor": 4
}
